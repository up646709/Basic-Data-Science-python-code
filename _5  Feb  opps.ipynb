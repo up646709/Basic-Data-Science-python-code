{
 "cells": [
  {
   "cell_type": "code",
   "execution_count": 1,
   "id": "ebf2d514",
   "metadata": {},
   "outputs": [],
   "source": [
    "a = 1"
   ]
  },
  {
   "cell_type": "code",
   "execution_count": 2,
   "id": "adfb7a45",
   "metadata": {},
   "outputs": [
    {
     "name": "stdout",
     "output_type": "stream",
     "text": [
      "<class 'int'>\n"
     ]
    }
   ],
   "source": [
    "print(type(a))"
   ]
  },
  {
   "cell_type": "code",
   "execution_count": 3,
   "id": "ef38206d",
   "metadata": {},
   "outputs": [
    {
     "name": "stdout",
     "output_type": "stream",
     "text": [
      "<class 'str'>\n"
     ]
    }
   ],
   "source": [
    "print(type(\"upendra\"))"
   ]
  },
  {
   "cell_type": "code",
   "execution_count": 1,
   "id": "d6dec1ed",
   "metadata": {},
   "outputs": [
    {
     "name": "stdout",
     "output_type": "stream",
     "text": [
      "<class 'str'>\n"
     ]
    }
   ],
   "source": [
    "print(type(\"hii\"))"
   ]
  },
  {
   "cell_type": "code",
   "execution_count": 4,
   "id": "fa5cb738",
   "metadata": {},
   "outputs": [],
   "source": [
    "class test :\n",
    "    pass"
   ]
  },
  {
   "cell_type": "code",
   "execution_count": 5,
   "id": "5f42bcf6",
   "metadata": {},
   "outputs": [],
   "source": [
    "a = test()"
   ]
  },
  {
   "cell_type": "code",
   "execution_count": 6,
   "id": "6a3ecf1b",
   "metadata": {},
   "outputs": [
    {
     "data": {
      "text/plain": [
       "__main__.test"
      ]
     },
     "execution_count": 6,
     "metadata": {},
     "output_type": "execute_result"
    }
   ],
   "source": [
    "type(a)"
   ]
  },
  {
   "cell_type": "code",
   "execution_count": 7,
   "id": "7a649279",
   "metadata": {},
   "outputs": [
    {
     "name": "stdout",
     "output_type": "stream",
     "text": [
      "<class '__main__.test'>\n"
     ]
    }
   ],
   "source": [
    "print(type(a))"
   ]
  },
  {
   "cell_type": "code",
   "execution_count": 14,
   "id": "d966310a",
   "metadata": {},
   "outputs": [],
   "source": [
    "class pwskill :\n",
    "    def welocme_msg(self):\n",
    "        print(\"Welcome the pwskills\")"
   ]
  },
  {
   "cell_type": "code",
   "execution_count": 15,
   "id": "3e61a3d5",
   "metadata": {},
   "outputs": [],
   "source": [
    "rhona = pwskill()"
   ]
  },
  {
   "cell_type": "code",
   "execution_count": 16,
   "id": "29fef611",
   "metadata": {},
   "outputs": [
    {
     "name": "stdout",
     "output_type": "stream",
     "text": [
      "<class '__main__.pwskill'>\n"
     ]
    }
   ],
   "source": [
    "print(type(rhona))"
   ]
  },
  {
   "cell_type": "code",
   "execution_count": 17,
   "id": "541f28c9",
   "metadata": {},
   "outputs": [
    {
     "name": "stdout",
     "output_type": "stream",
     "text": [
      "Welcome the pwskills\n"
     ]
    }
   ],
   "source": [
    "rhona.welocme_msg()"
   ]
  },
  {
   "cell_type": "code",
   "execution_count": 20,
   "id": "b303b62b",
   "metadata": {},
   "outputs": [],
   "source": [
    "rudra = pwskill()"
   ]
  },
  {
   "cell_type": "code",
   "execution_count": 21,
   "id": "98d6eb69",
   "metadata": {},
   "outputs": [
    {
     "name": "stdout",
     "output_type": "stream",
     "text": [
      "Welcome the pwskills\n"
     ]
    }
   ],
   "source": [
    "rudra.welocme_msg()"
   ]
  },
  {
   "cell_type": "code",
   "execution_count": 31,
   "id": "eac03d5b",
   "metadata": {},
   "outputs": [],
   "source": [
    "class pwskills1 :\n",
    "    def __init___(self, phone_number, emial_id, student_id):\n",
    "        self.phone_number = phone_number\n",
    "        self.email_id  = email_id\n",
    "        self.student_id = student_id\n",
    "        \n",
    "    def  return_student_deatials(self) :  \n",
    "        return self.student_id,self.phone_number, self.email_id"
   ]
  },
  {
   "cell_type": "code",
   "execution_count": 34,
   "id": "c307d1a2",
   "metadata": {},
   "outputs": [
    {
     "ename": "TypeError",
     "evalue": "pwskills1() takes no arguments",
     "output_type": "error",
     "traceback": [
      "\u001b[1;31m---------------------------------------------------------------------------\u001b[0m",
      "\u001b[1;31mTypeError\u001b[0m                                 Traceback (most recent call last)",
      "\u001b[1;32m~\\AppData\\Local\\Temp\\ipykernel_3100\\2231522114.py\u001b[0m in \u001b[0;36m<module>\u001b[1;34m\u001b[0m\n\u001b[1;32m----> 1\u001b[1;33m \u001b[0mrohan\u001b[0m \u001b[1;33m=\u001b[0m \u001b[0mpwskills1\u001b[0m\u001b[1;33m(\u001b[0m\u001b[1;36m123456789\u001b[0m\u001b[1;33m,\u001b[0m \u001b[1;34m\"upendra@gmail.com\"\u001b[0m \u001b[1;33m,\u001b[0m \u001b[1;36m101\u001b[0m\u001b[1;33m)\u001b[0m\u001b[1;33m\u001b[0m\u001b[1;33m\u001b[0m\u001b[0m\n\u001b[0m",
      "\u001b[1;31mTypeError\u001b[0m: pwskills1() takes no arguments"
     ]
    }
   ],
   "source": [
    "rohan = pwskills1(123456789, \"upendra@gmail.com\" , 101)"
   ]
  },
  {
   "cell_type": "code",
   "execution_count": null,
   "id": "4874ce5d",
   "metadata": {},
   "outputs": [],
   "source": []
  },
  {
   "cell_type": "code",
   "execution_count": 39,
   "id": "72750e2a",
   "metadata": {},
   "outputs": [],
   "source": [
    "class pwskills1 :\n",
    "    def __init___(self, phone_number, email_id, student_id):\n",
    "        self.phone_number = phone_number\n",
    "        self.email_id  = email_id\n",
    "        self.student_id = student_id\n",
    "        \n",
    "    def  return_student_deatials(self) :  \n",
    "        return self.student_id,self.phone_number, self.email_id"
   ]
  },
  {
   "cell_type": "code",
   "execution_count": 42,
   "id": "f752f6b2",
   "metadata": {},
   "outputs": [
    {
     "ename": "TypeError",
     "evalue": "pwskills1() takes no arguments",
     "output_type": "error",
     "traceback": [
      "\u001b[1;31m---------------------------------------------------------------------------\u001b[0m",
      "\u001b[1;31mTypeError\u001b[0m                                 Traceback (most recent call last)",
      "\u001b[1;32m~\\AppData\\Local\\Temp\\ipykernel_3100\\47741424.py\u001b[0m in \u001b[0;36m<module>\u001b[1;34m\u001b[0m\n\u001b[1;32m----> 1\u001b[1;33m \u001b[0mupend\u001b[0m \u001b[1;33m=\u001b[0m \u001b[0mpwskills1\u001b[0m\u001b[1;33m(\u001b[0m\u001b[1;36m12345677890\u001b[0m\u001b[1;33m,\u001b[0m \u001b[1;34m\"up@2004gmail.com\"\u001b[0m \u001b[1;33m,\u001b[0m \u001b[1;36m932\u001b[0m\u001b[1;33m)\u001b[0m\u001b[1;33m\u001b[0m\u001b[1;33m\u001b[0m\u001b[0m\n\u001b[0m",
      "\u001b[1;31mTypeError\u001b[0m: pwskills1() takes no arguments"
     ]
    }
   ],
   "source": [
    "upend = pwskills1(12345677890, \"up@2004gmail.com\" , 932)"
   ]
  },
  {
   "cell_type": "code",
   "execution_count": 43,
   "id": "07ae1943",
   "metadata": {},
   "outputs": [
    {
     "data": {
      "text/plain": [
       "2"
      ]
     },
     "execution_count": 43,
     "metadata": {},
     "output_type": "execute_result"
    }
   ],
   "source": [
    "1+1"
   ]
  },
  {
   "cell_type": "code",
   "execution_count": 44,
   "id": "8fa24944",
   "metadata": {},
   "outputs": [],
   "source": [
    "class upendra :\n",
    "    def __init__(self, phone_number, email_id, student_id):\n",
    "        self.phone_number = phone_number\n",
    "        self.email_id = email_id\n",
    "        self.student_id = student_id\n",
    "        \n",
    "    def return_student_deetails(self) :\n",
    "        return self.student_id, self.phone_number, self.email_id"
   ]
  },
  {
   "cell_type": "code",
   "execution_count": 45,
   "id": "f98fa670",
   "metadata": {},
   "outputs": [],
   "source": [
    "dhan = upendra(123456789, \"up234@gmail.com\",101)"
   ]
  },
  {
   "cell_type": "code",
   "execution_count": 47,
   "id": "67274464",
   "metadata": {},
   "outputs": [
    {
     "data": {
      "text/plain": [
       "(101, 123456789, 'up234@gmail.com')"
      ]
     },
     "execution_count": 47,
     "metadata": {},
     "output_type": "execute_result"
    }
   ],
   "source": [
    "dhan.return_student_deetails()"
   ]
  },
  {
   "cell_type": "code",
   "execution_count": 48,
   "id": "c57215ea",
   "metadata": {},
   "outputs": [],
   "source": [
    "santosh = upendra(234567890987, \"santosh12@gmail.com\",908)"
   ]
  },
  {
   "cell_type": "code",
   "execution_count": 49,
   "id": "8f9c93c1",
   "metadata": {},
   "outputs": [
    {
     "data": {
      "text/plain": [
       "(908, 234567890987, 'santosh12@gmail.com')"
      ]
     },
     "execution_count": 49,
     "metadata": {},
     "output_type": "execute_result"
    }
   ],
   "source": [
    "santosh.return_student_deetails()"
   ]
  },
  {
   "cell_type": "code",
   "execution_count": 50,
   "id": "597e6573",
   "metadata": {},
   "outputs": [
    {
     "data": {
      "text/plain": [
       "234567890987"
      ]
     },
     "execution_count": 50,
     "metadata": {},
     "output_type": "execute_result"
    }
   ],
   "source": [
    "santosh.phone_number"
   ]
  },
  {
   "cell_type": "code",
   "execution_count": 51,
   "id": "2855fa7a",
   "metadata": {},
   "outputs": [
    {
     "data": {
      "text/plain": [
       "'santosh12@gmail.com'"
      ]
     },
     "execution_count": 51,
     "metadata": {},
     "output_type": "execute_result"
    }
   ],
   "source": [
    "santosh.email_id"
   ]
  },
  {
   "cell_type": "code",
   "execution_count": 52,
   "id": "236ab9f7",
   "metadata": {},
   "outputs": [
    {
     "data": {
      "text/plain": [
       "908"
      ]
     },
     "execution_count": 52,
     "metadata": {},
     "output_type": "execute_result"
    }
   ],
   "source": [
    "santosh.student_id"
   ]
  },
  {
   "cell_type": "code",
   "execution_count": 53,
   "id": "7ebce385",
   "metadata": {},
   "outputs": [
    {
     "data": {
      "text/plain": [
       "123456789"
      ]
     },
     "execution_count": 53,
     "metadata": {},
     "output_type": "execute_result"
    }
   ],
   "source": [
    "dhan.phone_number"
   ]
  },
  {
   "cell_type": "code",
   "execution_count": 54,
   "id": "dc559daf",
   "metadata": {},
   "outputs": [
    {
     "data": {
      "text/plain": [
       "'up234@gmail.com'"
      ]
     },
     "execution_count": 54,
     "metadata": {},
     "output_type": "execute_result"
    }
   ],
   "source": [
    "dhan.email_id"
   ]
  },
  {
   "cell_type": "code",
   "execution_count": 55,
   "id": "bb5b9fe2",
   "metadata": {},
   "outputs": [
    {
     "data": {
      "text/plain": [
       "101"
      ]
     },
     "execution_count": 55,
     "metadata": {},
     "output_type": "execute_result"
    }
   ],
   "source": [
    "dhan.student_id"
   ]
  },
  {
   "cell_type": "code",
   "execution_count": 56,
   "id": "45bbf274",
   "metadata": {},
   "outputs": [],
   "source": [
    "class upendra :\n",
    "    def __init__(self, phone_number, email_id, student_id):\n",
    "        self.phone_number1 = phone_number\n",
    "        self.email_id1 = email_id\n",
    "        self.student_id1 = student_id\n",
    "        \n",
    "    def return_student_deetails(self) :\n",
    "        return self.student_id1, self.phone_number1, self.email_id1"
   ]
  },
  {
   "cell_type": "code",
   "execution_count": 57,
   "id": "3d32849b",
   "metadata": {},
   "outputs": [],
   "source": [
    "rohit = upendra(12343213442, \"rohit123@gmail.com\", 89)"
   ]
  },
  {
   "cell_type": "code",
   "execution_count": 58,
   "id": "06894d30",
   "metadata": {},
   "outputs": [
    {
     "data": {
      "text/plain": [
       "12343213442"
      ]
     },
     "execution_count": 58,
     "metadata": {},
     "output_type": "execute_result"
    }
   ],
   "source": [
    "rohit.phone_number1"
   ]
  },
  {
   "cell_type": "code",
   "execution_count": 60,
   "id": "d988980f",
   "metadata": {},
   "outputs": [
    {
     "data": {
      "text/plain": [
       "'rohit123@gmail.com'"
      ]
     },
     "execution_count": 60,
     "metadata": {},
     "output_type": "execute_result"
    }
   ],
   "source": [
    "rohit.email_id1"
   ]
  },
  {
   "cell_type": "raw",
   "id": "e3b509af",
   "metadata": {},
   "source": [
    "rohit.student_id1"
   ]
  },
  {
   "cell_type": "code",
   "execution_count": 62,
   "id": "3c152def",
   "metadata": {},
   "outputs": [
    {
     "ename": "AttributeError",
     "evalue": "'upendra' object has no attribute 'student_id'",
     "output_type": "error",
     "traceback": [
      "\u001b[1;31m---------------------------------------------------------------------------\u001b[0m",
      "\u001b[1;31mAttributeError\u001b[0m                            Traceback (most recent call last)",
      "\u001b[1;32m~\\AppData\\Local\\Temp\\ipykernel_3100\\2218272564.py\u001b[0m in \u001b[0;36m<module>\u001b[1;34m\u001b[0m\n\u001b[1;32m----> 1\u001b[1;33m \u001b[0mrohit\u001b[0m\u001b[1;33m.\u001b[0m\u001b[0mreturn_student_deetails\u001b[0m\u001b[1;33m(\u001b[0m\u001b[1;33m)\u001b[0m\u001b[1;33m\u001b[0m\u001b[1;33m\u001b[0m\u001b[0m\n\u001b[0m",
      "\u001b[1;32m~\\AppData\\Local\\Temp\\ipykernel_3100\\1554613550.py\u001b[0m in \u001b[0;36mreturn_student_deetails\u001b[1;34m(self)\u001b[0m\n\u001b[0;32m      6\u001b[0m \u001b[1;33m\u001b[0m\u001b[0m\n\u001b[0;32m      7\u001b[0m     \u001b[1;32mdef\u001b[0m \u001b[0mreturn_student_deetails\u001b[0m\u001b[1;33m(\u001b[0m\u001b[0mself\u001b[0m\u001b[1;33m)\u001b[0m \u001b[1;33m:\u001b[0m\u001b[1;33m\u001b[0m\u001b[1;33m\u001b[0m\u001b[0m\n\u001b[1;32m----> 8\u001b[1;33m         \u001b[1;32mreturn\u001b[0m \u001b[0mself\u001b[0m\u001b[1;33m.\u001b[0m\u001b[0mstudent_id\u001b[0m\u001b[1;33m,\u001b[0m \u001b[0mself\u001b[0m\u001b[1;33m.\u001b[0m\u001b[0mphone_number\u001b[0m\u001b[1;33m,\u001b[0m \u001b[0mself\u001b[0m\u001b[1;33m.\u001b[0m\u001b[0memail_id\u001b[0m\u001b[1;33m\u001b[0m\u001b[1;33m\u001b[0m\u001b[0m\n\u001b[0m",
      "\u001b[1;31mAttributeError\u001b[0m: 'upendra' object has no attribute 'student_id'"
     ]
    }
   ],
   "source": [
    "rohit.return_student_deetails()"
   ]
  },
  {
   "cell_type": "code",
   "execution_count": null,
   "id": "0207d748",
   "metadata": {},
   "outputs": [],
   "source": []
  }
 ],
 "metadata": {
  "kernelspec": {
   "display_name": "Python 3 (ipykernel)",
   "language": "python",
   "name": "python3"
  },
  "language_info": {
   "codemirror_mode": {
    "name": "ipython",
    "version": 3
   },
   "file_extension": ".py",
   "mimetype": "text/x-python",
   "name": "python",
   "nbconvert_exporter": "python",
   "pygments_lexer": "ipython3",
   "version": "3.9.13"
  }
 },
 "nbformat": 4,
 "nbformat_minor": 5
}
