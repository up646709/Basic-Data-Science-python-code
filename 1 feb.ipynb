{
 "cells": [
  {
   "cell_type": "code",
   "execution_count": 1,
   "id": "9b565cfd",
   "metadata": {},
   "outputs": [],
   "source": [
    "d = {}"
   ]
  },
  {
   "cell_type": "code",
   "execution_count": 2,
   "id": "783091ff",
   "metadata": {},
   "outputs": [
    {
     "data": {
      "text/plain": [
       "dict"
      ]
     },
     "execution_count": 2,
     "metadata": {},
     "output_type": "execute_result"
    }
   ],
   "source": [
    "type(d)"
   ]
  },
  {
   "cell_type": "code",
   "execution_count": 3,
   "id": "ac72eac8",
   "metadata": {},
   "outputs": [],
   "source": [
    "d1 = {\"key\" : \"upendra\"}"
   ]
  },
  {
   "cell_type": "code",
   "execution_count": 4,
   "id": "dd64251c",
   "metadata": {},
   "outputs": [
    {
     "data": {
      "text/plain": [
       "{'key': 'upendra'}"
      ]
     },
     "execution_count": 4,
     "metadata": {},
     "output_type": "execute_result"
    }
   ],
   "source": [
    "d1"
   ]
  },
  {
   "cell_type": "code",
   "execution_count": 5,
   "id": "d71f3d28",
   "metadata": {},
   "outputs": [],
   "source": [
    "d2 = {\"name\" : \"upendra\", \"email\" : \"up232@gmail.com\" ,\"number\" : 233445 }"
   ]
  },
  {
   "cell_type": "code",
   "execution_count": 6,
   "id": "f473a376",
   "metadata": {},
   "outputs": [],
   "source": [
    "d3 = {233:\"upendr\" }"
   ]
  },
  {
   "cell_type": "code",
   "execution_count": 7,
   "id": "bf5eb5ce",
   "metadata": {},
   "outputs": [
    {
     "data": {
      "text/plain": [
       "{233: 'upendr'}"
      ]
     },
     "execution_count": 7,
     "metadata": {},
     "output_type": "execute_result"
    }
   ],
   "source": [
    "d3"
   ]
  },
  {
   "cell_type": "code",
   "execution_count": 8,
   "id": "06a9a469",
   "metadata": {},
   "outputs": [
    {
     "data": {
      "text/plain": [
       "{'name': 'upendra', 'email': 'up232@gmail.com', 'number': 233445}"
      ]
     },
     "execution_count": 8,
     "metadata": {},
     "output_type": "execute_result"
    }
   ],
   "source": [
    "d2"
   ]
  },
  {
   "cell_type": "code",
   "execution_count": 10,
   "id": "b15f8124",
   "metadata": {},
   "outputs": [
    {
     "data": {
      "text/plain": [
       "'upendra'"
      ]
     },
     "execution_count": 10,
     "metadata": {},
     "output_type": "execute_result"
    }
   ],
   "source": [
    "d2[\"name\"]"
   ]
  },
  {
   "cell_type": "code",
   "execution_count": 12,
   "id": "81c1078f",
   "metadata": {},
   "outputs": [],
   "source": [
    "d4 = {\"name\" : \"upendra\", \"mail_id\" : \"up23@gmail.com\", \"name\" : \"patel\"}"
   ]
  },
  {
   "cell_type": "code",
   "execution_count": 13,
   "id": "85c5aa34",
   "metadata": {},
   "outputs": [
    {
     "data": {
      "text/plain": [
       "'patel'"
      ]
     },
     "execution_count": 13,
     "metadata": {},
     "output_type": "execute_result"
    }
   ],
   "source": [
    "d4[\"name\"]"
   ]
  },
  {
   "cell_type": "code",
   "execution_count": 14,
   "id": "300c114a",
   "metadata": {},
   "outputs": [],
   "source": [
    "d5 = {\"company\" : \"pwskills\" ,\"course\" : [\"web\", \"data\",\"java\"]}"
   ]
  },
  {
   "cell_type": "code",
   "execution_count": 15,
   "id": "24464004",
   "metadata": {},
   "outputs": [
    {
     "data": {
      "text/plain": [
       "{'company': 'pwskills', 'course': ['web', 'data', 'java']}"
      ]
     },
     "execution_count": 15,
     "metadata": {},
     "output_type": "execute_result"
    }
   ],
   "source": [
    "d5"
   ]
  },
  {
   "cell_type": "code",
   "execution_count": 16,
   "id": "7773d56d",
   "metadata": {},
   "outputs": [
    {
     "data": {
      "text/plain": [
       "['web', 'data', 'java']"
      ]
     },
     "execution_count": 16,
     "metadata": {},
     "output_type": "execute_result"
    }
   ],
   "source": [
    "d5[\"course\"]"
   ]
  },
  {
   "cell_type": "code",
   "execution_count": 17,
   "id": "e75e0e8b",
   "metadata": {},
   "outputs": [
    {
     "data": {
      "text/plain": [
       "'java'"
      ]
     },
     "execution_count": 17,
     "metadata": {},
     "output_type": "execute_result"
    }
   ],
   "source": [
    "d5[\"course\"][2]"
   ]
  },
  {
   "cell_type": "code",
   "execution_count": 19,
   "id": "8640b820",
   "metadata": {},
   "outputs": [
    {
     "ename": "SyntaxError",
     "evalue": "invalid syntax (3017748374.py, line 1)",
     "output_type": "error",
     "traceback": [
      "\u001b[1;36m  File \u001b[1;32m\"C:\\Users\\91896\\AppData\\Local\\Temp\\ipykernel_1076\\3017748374.py\"\u001b[1;36m, line \u001b[1;32m1\u001b[0m\n\u001b[1;33m    d6 = {\"number\" : [1,2,3,4,5,6], \"assingnemet\" :(1,2,3,4,5,,6,7),\"lunch_date\" :{34,5,68} }\u001b[0m\n\u001b[1;37m                                                              ^\u001b[0m\n\u001b[1;31mSyntaxError\u001b[0m\u001b[1;31m:\u001b[0m invalid syntax\n"
     ]
    }
   ],
   "source": [
    "d6 = {\"number\" : [1,2,3,4,5,6], \"assingnemet\" :(1,2,3,4,5,,6,7),\"lunch_date\" :{34,5,68} }"
   ]
  },
  {
   "cell_type": "code",
   "execution_count": null,
   "id": "b2c484e2",
   "metadata": {},
   "outputs": [],
   "source": []
  },
  {
   "cell_type": "code",
   "execution_count": 20,
   "id": "f60760ea",
   "metadata": {},
   "outputs": [],
   "source": [
    "d6 = {\"number\" : [2,3,4,5],\"assignment \" :(1,2,3,4,5,6),\"lunch_time\" :{34,56,23}}"
   ]
  },
  {
   "cell_type": "code",
   "execution_count": 21,
   "id": "d8896001",
   "metadata": {},
   "outputs": [
    {
     "data": {
      "text/plain": [
       "{'number': [2, 3, 4, 5],\n",
       " 'assignment ': (1, 2, 3, 4, 5, 6),\n",
       " 'lunch_time': {23, 34, 56}}"
      ]
     },
     "execution_count": 21,
     "metadata": {},
     "output_type": "execute_result"
    }
   ],
   "source": [
    "d6"
   ]
  },
  {
   "cell_type": "code",
   "execution_count": 22,
   "id": "00e929b9",
   "metadata": {},
   "outputs": [],
   "source": [
    "d6['manetor'] = [\"upendr\",\"rudra\", \"dhan\"]"
   ]
  },
  {
   "cell_type": "code",
   "execution_count": 23,
   "id": "0e44b9e1",
   "metadata": {},
   "outputs": [
    {
     "data": {
      "text/plain": [
       "{'number': [2, 3, 4, 5],\n",
       " 'assignment ': (1, 2, 3, 4, 5, 6),\n",
       " 'lunch_time': {23, 34, 56},\n",
       " 'manetor': ['upendr', 'rudra', 'dhan']}"
      ]
     },
     "execution_count": 23,
     "metadata": {},
     "output_type": "execute_result"
    }
   ],
   "source": [
    "d6"
   ]
  },
  {
   "cell_type": "code",
   "execution_count": 24,
   "id": "719efd5d",
   "metadata": {},
   "outputs": [],
   "source": [
    "del d6['number']"
   ]
  },
  {
   "cell_type": "code",
   "execution_count": 25,
   "id": "a31481ee",
   "metadata": {},
   "outputs": [
    {
     "data": {
      "text/plain": [
       "{'assignment ': (1, 2, 3, 4, 5, 6),\n",
       " 'lunch_time': {23, 34, 56},\n",
       " 'manetor': ['upendr', 'rudra', 'dhan']}"
      ]
     },
     "execution_count": 25,
     "metadata": {},
     "output_type": "execute_result"
    }
   ],
   "source": [
    "d6"
   ]
  },
  {
   "cell_type": "code",
   "execution_count": 27,
   "id": "60164442",
   "metadata": {},
   "outputs": [
    {
     "data": {
      "text/plain": [
       "['assignment ', 'lunch_time', 'manetor']"
      ]
     },
     "execution_count": 27,
     "metadata": {},
     "output_type": "execute_result"
    }
   ],
   "source": [
    "list(d6.keys())"
   ]
  },
  {
   "cell_type": "code",
   "execution_count": 28,
   "id": "40a6fac1",
   "metadata": {},
   "outputs": [
    {
     "data": {
      "text/plain": [
       "[(1, 2, 3, 4, 5, 6), {23, 34, 56}, ['upendr', 'rudra', 'dhan']]"
      ]
     },
     "execution_count": 28,
     "metadata": {},
     "output_type": "execute_result"
    }
   ],
   "source": [
    "list(d6.values())"
   ]
  },
  {
   "cell_type": "code",
   "execution_count": 29,
   "id": "d5f2fc40",
   "metadata": {},
   "outputs": [
    {
     "data": {
      "text/plain": [
       "dict_items([('assignment ', (1, 2, 3, 4, 5, 6)), ('lunch_time', {56, 34, 23}), ('manetor', ['upendr', 'rudra', 'dhan'])])"
      ]
     },
     "execution_count": 29,
     "metadata": {},
     "output_type": "execute_result"
    }
   ],
   "source": [
    "list(d6.items())"
   ]
  },
  {
   "cell_type": "code",
   "execution_count": 30,
   "id": "e16db1e5",
   "metadata": {},
   "outputs": [
    {
     "name": "stdout",
     "output_type": "stream",
     "text": [
      "you will be a part of a1 batch\n"
     ]
    }
   ],
   "source": [
    "marks = 65\n",
    "if marks >= 80 :\n",
    "    print(\"you will part od A batch\")\n",
    "elif marks>=60 and marks<80 :\n",
    "    print(\"you will be a part of a1 batch\")\n",
    "elif marks >= 40 and marks< 60:\n",
    "    print(\"you will be a part ofA2 batch\")\n",
    "else :\n",
    "    print(\"you will be part of A3 batch\")"
   ]
  },
  {
   "cell_type": "code",
   "execution_count": null,
   "id": "617a7c99",
   "metadata": {},
   "outputs": [],
   "source": []
  }
 ],
 "metadata": {
  "kernelspec": {
   "display_name": "Python 3 (ipykernel)",
   "language": "python",
   "name": "python3"
  },
  "language_info": {
   "codemirror_mode": {
    "name": "ipython",
    "version": 3
   },
   "file_extension": ".py",
   "mimetype": "text/x-python",
   "name": "python",
   "nbconvert_exporter": "python",
   "pygments_lexer": "ipython3",
   "version": "3.9.13"
  }
 },
 "nbformat": 4,
 "nbformat_minor": 5
}
