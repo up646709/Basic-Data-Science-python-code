{
 "cells": [
  {
   "cell_type": "code",
   "execution_count": 1,
   "id": "2f6cbdf2",
   "metadata": {},
   "outputs": [],
   "source": [
    "class test :\n",
    "    \n",
    "    \n",
    "    def __init__(self, a, b):\n",
    "        self.a = a\n",
    "        self.b = b\n",
    "        "
   ]
  },
  {
   "cell_type": "code",
   "execution_count": 2,
   "id": "b124f21d",
   "metadata": {},
   "outputs": [],
   "source": [
    "t = test(23,24)"
   ]
  },
  {
   "cell_type": "code",
   "execution_count": 3,
   "id": "b97e6f2b",
   "metadata": {},
   "outputs": [],
   "source": [
    "t.a = 234566\n"
   ]
  },
  {
   "cell_type": "code",
   "execution_count": 4,
   "id": "be48aaff",
   "metadata": {},
   "outputs": [
    {
     "data": {
      "text/plain": [
       "234566"
      ]
     },
     "execution_count": 4,
     "metadata": {},
     "output_type": "execute_result"
    }
   ],
   "source": [
    "t.a"
   ]
  },
  {
   "cell_type": "code",
   "execution_count": 7,
   "id": "ac309260",
   "metadata": {},
   "outputs": [],
   "source": [
    "class car :\n",
    "    def __init__(self,year,make, model, speed) :\n",
    "        self.__year = year\n",
    "        self.__model = model\n",
    "        self.__make = make\n",
    "        self.__speed = 0"
   ]
  },
  {
   "cell_type": "code",
   "execution_count": 8,
   "id": "2d3e4129",
   "metadata": {},
   "outputs": [],
   "source": [
    "c = car(2021,\"toyota\" ,\"innova\", 12)"
   ]
  },
  {
   "cell_type": "code",
   "execution_count": 9,
   "id": "17597d0e",
   "metadata": {},
   "outputs": [
    {
     "ename": "AttributeError",
     "evalue": "'car' object has no attribute '__year'",
     "output_type": "error",
     "traceback": [
      "\u001b[1;31m---------------------------------------------------------------------------\u001b[0m",
      "\u001b[1;31mAttributeError\u001b[0m                            Traceback (most recent call last)",
      "\u001b[1;32m~\\AppData\\Local\\Temp\\ipykernel_9280\\164851956.py\u001b[0m in \u001b[0;36m<module>\u001b[1;34m\u001b[0m\n\u001b[1;32m----> 1\u001b[1;33m \u001b[0mc\u001b[0m\u001b[1;33m.\u001b[0m\u001b[0m__year\u001b[0m\u001b[1;33m\u001b[0m\u001b[1;33m\u001b[0m\u001b[0m\n\u001b[0m",
      "\u001b[1;31mAttributeError\u001b[0m: 'car' object has no attribute '__year'"
     ]
    }
   ],
   "source": [
    "c.__year"
   ]
  },
  {
   "cell_type": "code",
   "execution_count": 10,
   "id": "7b31756d",
   "metadata": {},
   "outputs": [
    {
     "data": {
      "text/plain": [
       "2021"
      ]
     },
     "execution_count": 10,
     "metadata": {},
     "output_type": "execute_result"
    }
   ],
   "source": [
    "c._car__year"
   ]
  },
  {
   "cell_type": "code",
   "execution_count": 30,
   "id": "2cf7707d",
   "metadata": {},
   "outputs": [],
   "source": [
    "class bank_account :\n",
    "    \n",
    "    def __init__(self, balance) :\n",
    "        self.__balance = balance\n",
    "        \n",
    "        \n",
    "    def deposit(self, amount):\n",
    "        self.__balance = self.__balance + amount\n",
    "        \n",
    "        \n",
    "    def withdaw(self, amount):\n",
    "        if self.__balance >= amount :\n",
    "            self.__balnace = self.__balance - amount\n",
    "            return True\n",
    "        else :\n",
    "            return False\n",
    "        \n",
    "        \n",
    "    def get_balance(self):\n",
    "        return self.__balance\n",
    "    "
   ]
  },
  {
   "cell_type": "code",
   "execution_count": 31,
   "id": "5120d0ed",
   "metadata": {},
   "outputs": [],
   "source": [
    "rud = bank_account(1000)"
   ]
  },
  {
   "cell_type": "code",
   "execution_count": 32,
   "id": "8a5658ed",
   "metadata": {},
   "outputs": [
    {
     "data": {
      "text/plain": [
       "1000"
      ]
     },
     "execution_count": 32,
     "metadata": {},
     "output_type": "execute_result"
    }
   ],
   "source": [
    "rud.get_balance()"
   ]
  },
  {
   "cell_type": "code",
   "execution_count": 33,
   "id": "ea69e6ed",
   "metadata": {},
   "outputs": [],
   "source": [
    "rud.deposit(10000)"
   ]
  },
  {
   "cell_type": "code",
   "execution_count": 34,
   "id": "29cf77b4",
   "metadata": {},
   "outputs": [
    {
     "data": {
      "text/plain": [
       "11000"
      ]
     },
     "execution_count": 34,
     "metadata": {},
     "output_type": "execute_result"
    }
   ],
   "source": [
    "rud.get_balance()"
   ]
  },
  {
   "cell_type": "code",
   "execution_count": 35,
   "id": "596a8b5c",
   "metadata": {},
   "outputs": [],
   "source": [
    "rud.deposit(10000)"
   ]
  },
  {
   "cell_type": "code",
   "execution_count": 36,
   "id": "e40befca",
   "metadata": {},
   "outputs": [
    {
     "data": {
      "text/plain": [
       "21000"
      ]
     },
     "execution_count": 36,
     "metadata": {},
     "output_type": "execute_result"
    }
   ],
   "source": [
    "rud.get_balance()"
   ]
  },
  {
   "cell_type": "code",
   "execution_count": 37,
   "id": "e947efe2",
   "metadata": {},
   "outputs": [
    {
     "data": {
      "text/plain": [
       "True"
      ]
     },
     "execution_count": 37,
     "metadata": {},
     "output_type": "execute_result"
    }
   ],
   "source": [
    "rud.withdaw(5000)"
   ]
  },
  {
   "cell_type": "code",
   "execution_count": 38,
   "id": "b48d7d9f",
   "metadata": {},
   "outputs": [
    {
     "data": {
      "text/plain": [
       "21000"
      ]
     },
     "execution_count": 38,
     "metadata": {},
     "output_type": "execute_result"
    }
   ],
   "source": [
    "rud.get_balance()"
   ]
  },
  {
   "cell_type": "code",
   "execution_count": null,
   "id": "2b943528",
   "metadata": {},
   "outputs": [],
   "source": []
  },
  {
   "cell_type": "code",
   "execution_count": null,
   "id": "aacbdb0c",
   "metadata": {},
   "outputs": [],
   "source": []
  },
  {
   "cell_type": "code",
   "execution_count": null,
   "id": "3be087e6",
   "metadata": {},
   "outputs": [],
   "source": []
  },
  {
   "cell_type": "code",
   "execution_count": null,
   "id": "55d1037c",
   "metadata": {},
   "outputs": [],
   "source": []
  },
  {
   "cell_type": "code",
   "execution_count": null,
   "id": "77e726b1",
   "metadata": {},
   "outputs": [],
   "source": []
  }
 ],
 "metadata": {
  "kernelspec": {
   "display_name": "Python 3 (ipykernel)",
   "language": "python",
   "name": "python3"
  },
  "language_info": {
   "codemirror_mode": {
    "name": "ipython",
    "version": 3
   },
   "file_extension": ".py",
   "mimetype": "text/x-python",
   "name": "python",
   "nbconvert_exporter": "python",
   "pygments_lexer": "ipython3",
   "version": "3.9.13"
  }
 },
 "nbformat": 4,
 "nbformat_minor": 5
}
