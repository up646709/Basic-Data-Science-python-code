{
 "cells": [
  {
   "cell_type": "code",
   "execution_count": 1,
   "id": "4253c4c5",
   "metadata": {},
   "outputs": [],
   "source": [
    "def test(a, b) :\n",
    "    return a+b"
   ]
  },
  {
   "cell_type": "code",
   "execution_count": 2,
   "id": "6a6dd1b7",
   "metadata": {},
   "outputs": [
    {
     "data": {
      "text/plain": [
       "5"
      ]
     },
     "execution_count": 2,
     "metadata": {},
     "output_type": "execute_result"
    }
   ],
   "source": [
    "test(2,3)"
   ]
  },
  {
   "cell_type": "code",
   "execution_count": 4,
   "id": "d661f273",
   "metadata": {},
   "outputs": [
    {
     "data": {
      "text/plain": [
       "'upendv hii'"
      ]
     },
     "execution_count": 4,
     "metadata": {},
     "output_type": "execute_result"
    }
   ],
   "source": [
    "test(\"upendv \" , \"hii\")"
   ]
  },
  {
   "cell_type": "code",
   "execution_count": 5,
   "id": "ed9f9de3",
   "metadata": {},
   "outputs": [
    {
     "data": {
      "text/plain": [
       "[1, 2, 3, 4, 5, 6, 5, 4, 2, 1]"
      ]
     },
     "execution_count": 5,
     "metadata": {},
     "output_type": "execute_result"
    }
   ],
   "source": [
    "test([1,2,3,4,5] , [6,5,4,2,1])"
   ]
  },
  {
   "cell_type": "code",
   "execution_count": 6,
   "id": "596aa091",
   "metadata": {},
   "outputs": [],
   "source": [
    "class data_science :\n",
    "    def syllabus(self):\n",
    "        print(\"this is my data science syllabus\")"
   ]
  },
  {
   "cell_type": "code",
   "execution_count": 7,
   "id": "4de31366",
   "metadata": {},
   "outputs": [],
   "source": [
    "class web_dev :\n",
    "    def syllabus(self) :\n",
    "        print(\"this is my web develoment class\")"
   ]
  },
  {
   "cell_type": "code",
   "execution_count": 8,
   "id": "ad8716fa",
   "metadata": {},
   "outputs": [],
   "source": [
    "def class_parcer(class_obj):\n",
    "    for i in class_obj:\n",
    "        i.syllabus()"
   ]
  },
  {
   "cell_type": "code",
   "execution_count": 9,
   "id": "b130961f",
   "metadata": {},
   "outputs": [],
   "source": [
    "data_science = data_science()"
   ]
  },
  {
   "cell_type": "code",
   "execution_count": 10,
   "id": "ac1a86e8",
   "metadata": {},
   "outputs": [],
   "source": [
    "web_dev = web_dev()"
   ]
  },
  {
   "cell_type": "code",
   "execution_count": 11,
   "id": "ac2724ba",
   "metadata": {},
   "outputs": [],
   "source": [
    "class_obj = [data_science, web_dev]"
   ]
  },
  {
   "cell_type": "code",
   "execution_count": 12,
   "id": "4c06fcef",
   "metadata": {},
   "outputs": [
    {
     "name": "stdout",
     "output_type": "stream",
     "text": [
      "this is my data science syllabus\n",
      "this is my web develoment class\n"
     ]
    }
   ],
   "source": [
    "class_parcer(class_obj)"
   ]
  },
  {
   "cell_type": "code",
   "execution_count": null,
   "id": "a48fd08b",
   "metadata": {},
   "outputs": [],
   "source": []
  }
 ],
 "metadata": {
  "kernelspec": {
   "display_name": "Python 3 (ipykernel)",
   "language": "python",
   "name": "python3"
  },
  "language_info": {
   "codemirror_mode": {
    "name": "ipython",
    "version": 3
   },
   "file_extension": ".py",
   "mimetype": "text/x-python",
   "name": "python",
   "nbconvert_exporter": "python",
   "pygments_lexer": "ipython3",
   "version": "3.9.13"
  }
 },
 "nbformat": 4,
 "nbformat_minor": 5
}
